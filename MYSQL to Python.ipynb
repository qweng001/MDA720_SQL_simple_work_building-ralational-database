{
 "cells": [
  {
   "cell_type": "code",
   "execution_count": 1,
   "id": "e744881b",
   "metadata": {},
   "outputs": [
    {
     "name": "stdout",
     "output_type": "stream",
     "text": [
      "Requirement already satisfied: mysql-connector-python in c:\\users\\qifan\\anaconda3\\lib\\site-packages (8.0.31)\n",
      "Requirement already satisfied: protobuf<=3.20.1,>=3.11.0 in c:\\users\\qifan\\anaconda3\\lib\\site-packages (from mysql-connector-python) (3.19.1)\n"
     ]
    }
   ],
   "source": [
    "#!pip3 install mysql-connector-python\n",
    " # remove pip3 with pip depend on the version if error in the next cells"
   ]
  },
  {
   "cell_type": "code",
   "execution_count": 1,
   "id": "a5844d50",
   "metadata": {},
   "outputs": [],
   "source": [
    "# importing required libraries\n",
    "import mysql.connector\n",
    "import pandas as pd"
   ]
  },
  {
   "cell_type": "code",
   "execution_count": 2,
   "id": "da3933f1",
   "metadata": {},
   "outputs": [],
   "source": [
    "## Create a connection with mysql\n",
    "mydb = mysql.connector.connect(\n",
    "  host=\"localhost\",\n",
    "  user=\"root\",\n",
    "  password=\"Mengniu567.\",\n",
    "  database=\"world_x\"  # JUST change the database to specify\n",
    ")"
   ]
  },
  {
   "cell_type": "code",
   "execution_count": 3,
   "id": "9bc6f8b4",
   "metadata": {},
   "outputs": [],
   "source": [
    "\n",
    "mycursor = mydb.cursor()  ## prepare a cursor object\n",
    "mycursor.execute(\"select * from countrylanguage where language='English'\")  # in this quote, copy the SQL query\n",
    "myresult = mycursor.fetchall()\n"
   ]
  },
  {
   "cell_type": "code",
   "execution_count": 4,
   "id": "85a1947d",
   "metadata": {},
   "outputs": [
    {
     "data": {
      "text/plain": [
       "60"
      ]
     },
     "execution_count": 4,
     "metadata": {},
     "output_type": "execute_result"
    }
   ],
   "source": [
    "query = \"select * from countrylanguage where language='English'\"  # same query as in my cursor\n",
    "mycursor.execute(query)\n",
    "myresult = mycursor.fetchall() # fetches all rows of a query result set and returns a list of tuples\n",
    "df = pd.DataFrame(myresult)\n",
    "df\n",
    "len(df)"
   ]
  },
  {
   "cell_type": "code",
   "execution_count": 5,
   "id": "a6aa61e6",
   "metadata": {},
   "outputs": [
    {
     "name": "stdout",
     "output_type": "stream",
     "text": [
      "city\n",
      "country\n",
      "countryinfo\n",
      "countrylanguage\n"
     ]
    }
   ],
   "source": [
    "###List tables in the database\n",
    "mycursor.execute(\"SELECT table_name FROM information_schema.tables WHERE table_schema = 'world_x'\")\n",
    "\n",
    "# Read and print tables\n",
    "for table in [tables[0] for tables in mycursor.fetchall()]:\n",
    "    print(table)"
   ]
  },
  {
   "cell_type": "code",
   "execution_count": 6,
   "id": "b2fc1d92",
   "metadata": {},
   "outputs": [],
   "source": [
    "mydb.close() # close the connection # some of them will timeout, but better to close it the connection."
   ]
  },
  {
   "cell_type": "code",
   "execution_count": 7,
   "id": "81067940",
   "metadata": {},
   "outputs": [],
   "source": [
    "# https://www.geeksforgeeks.org/python-mysql/"
   ]
  },
  {
   "cell_type": "code",
   "execution_count": null,
   "id": "85d0f88c",
   "metadata": {},
   "outputs": [],
   "source": [
    "# trying to create the new tables or databases to SQL from MYSQL"
   ]
  }
 ],
 "metadata": {
  "kernelspec": {
   "display_name": "Python 3 (ipykernel)",
   "language": "python",
   "name": "python3"
  },
  "language_info": {
   "codemirror_mode": {
    "name": "ipython",
    "version": 3
   },
   "file_extension": ".py",
   "mimetype": "text/x-python",
   "name": "python",
   "nbconvert_exporter": "python",
   "pygments_lexer": "ipython3",
   "version": "3.9.12"
  }
 },
 "nbformat": 4,
 "nbformat_minor": 5
}
